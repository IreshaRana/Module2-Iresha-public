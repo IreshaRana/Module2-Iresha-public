{
 "cells": [
  {
   "cell_type": "markdown",
   "id": "b12a69e1-9580-41e0-91bd-d8b8b3a3e31b",
   "metadata": {},
   "source": [
    "# Writing beautiful Python code with PEP8\n",
    "\n",
    "## References:\n",
    "Reference used for this note:\n",
    "- Write Python Code Properly! (https://www.youtube.com/watch?v=D4_s3q038I0&t=147s)\n",
    "\n",
    "Other references found:\n",
    "- Datacamp Tutorial (https://www.datacamp.com/tutorial/pep8-tutorial-python-code)\n",
    "- Python style guide (https://peps.python.org/pep-0008/)\n",
    "- Writing Beautiful Python - An Overview of PEP 8 (https://www.youtube.com/watch?v=5zrlZGyEwMM)\n",
    "\n",
    "## Cheat sheets:\n",
    "- https://www.cs.utexas.edu/~mitra/csFall2021/cs313/lectures/pep8.pdf\n"
   ]
  },
  {
   "cell_type": "markdown",
   "id": "18e3b2a6-20f6-4513-9ed9-99da1f228d92",
   "metadata": {},
   "source": [
    "## Indentation\n",
    "- Any line cannot exceed 80 characters (only 79 allowed). So we need to indent.\n",
    "- 4 spaces for indentation or a tab\n",
    "- 4 spaces are preferred over a tab\n",
    "- spaces and tabs should not be mixed together"
   ]
  },
  {
   "cell_type": "code",
   "execution_count": 22,
   "id": "9979fa40-48c7-4e5a-b6e9-19d71913be9d",
   "metadata": {},
   "outputs": [],
   "source": [
    "# bad example with more than 80 characters \n",
    "import numpy as np\n",
    "a = np.array([(1,2,3,4,5,6,7,8,9,10),(1,2,3,4,5,6,7,8,9,10),(1,2,3,4,5,6,7,8,9,10),(1,2,3,4,5,6,7,8,9,10),(1,2,3,4,5,6,7,8,9,10),(1,2,3,4,5,6,7,8,9,10),(1,2,3,4,5,6,7,8,9,10)])"
   ]
  },
  {
   "cell_type": "code",
   "execution_count": 24,
   "id": "a35cfe90-98c5-4fed-bae1-b3909f87f8fd",
   "metadata": {},
   "outputs": [],
   "source": [
    "# made beautiful with indentation\n",
    "a = np.array(\n",
    "    [(1,2,3,4,5,6,7,8,9,10), (1,2,3,4,5,6,7,8,9,10), (1,2,3,4,5,6,7,8,9,10),(1,2,3,4,5,6,7,8,9,10),\n",
    "     (1,2,3,4,5,6,7,8,9,10),(1,2,3,4,5,6,7,8,9,10),(1,2,3,4,5,6,7,8,9,10)]\n",
    "    )"
   ]
  },
  {
   "cell_type": "markdown",
   "id": "4852247d-3471-4bff-b397-01806112b73c",
   "metadata": {},
   "source": [
    "## Naming conventions \n",
    "### for variable\n",
    "- snake case is the correct format e.g. hello_world\n",
    "- Camel case is incorrect e.g. HelloWorld\n"
   ]
  },
  {
   "cell_type": "markdown",
   "id": "ea3d9dca-7f65-480c-ba90-5cfa1e123e97",
   "metadata": {},
   "source": [
    "### for constants\n",
    "- Upper case is used e.g. CONST, PI\n",
    "- This goes at the top of the code below in any import statements"
   ]
  },
  {
   "cell_type": "code",
   "execution_count": 30,
   "id": "d67a70df-97b4-4165-8a03-2f84749bce3c",
   "metadata": {},
   "outputs": [],
   "source": [
    "PI = 3.144"
   ]
  },
  {
   "cell_type": "markdown",
   "id": "047d9723-67ab-488d-8871-8155c2c8d6aa",
   "metadata": {},
   "source": [
    "### for functions\n",
    "This is the same as variables - snake case"
   ]
  },
  {
   "cell_type": "code",
   "execution_count": 53,
   "id": "601fe266-2089-47fe-9bfd-04ba4d2d612b",
   "metadata": {},
   "outputs": [],
   "source": [
    "# correct way of naming the function 'greet the world'\n",
    "def greet_the_world():\n",
    "    print('Hello world')\n",
    "    "
   ]
  },
  {
   "cell_type": "markdown",
   "id": "b02fdca7-fb1d-4cd6-9e56-5ab87ae89997",
   "metadata": {},
   "source": [
    "### for classes"
   ]
  },
  {
   "cell_type": "code",
   "execution_count": null,
   "id": "a7c1782d-ab14-48cb-a929-5b29af181a5e",
   "metadata": {},
   "outputs": [],
   "source": [
    "class BaseClass:"
   ]
  },
  {
   "cell_type": "markdown",
   "id": "e829b89f-9519-40a3-a28b-c445759bb044",
   "metadata": {},
   "source": [
    "### for exceptions"
   ]
  },
  {
   "cell_type": "code",
   "execution_count": null,
   "id": "5f6edd8b-79e3-4f85-b315-6537f1a64a13",
   "metadata": {},
   "outputs": [],
   "source": [
    "class FirstException:"
   ]
  },
  {
   "cell_type": "markdown",
   "id": "b1a4aed0-20e0-41fb-847b-8d54728ad41e",
   "metadata": {},
   "source": [
    "## Imports\n",
    "- Should always to at the top of your file\n",
    "- However, if you have a module doc string, then the imports can go below\n",
    "- Shoud import only one in one line"
   ]
  },
  {
   "cell_type": "code",
   "execution_count": 67,
   "id": "f3e128fa-4f4d-45b8-aab4-624c60ac9e6a",
   "metadata": {},
   "outputs": [],
   "source": [
    "\"\"\" # this is a module doc string\n",
    "\"\"\"\n",
    "import pandas as pd"
   ]
  },
  {
   "cell_type": "markdown",
   "id": "c07bd969-9206-438d-b894-3b39169140cd",
   "metadata": {},
   "source": [
    "## Order of items\n",
    "- First, module doc string if any\n",
    "- Then, imports\n",
    "- Globaly defined variable and constants\n",
    "- Top-level functions and classes"
   ]
  },
  {
   "cell_type": "markdown",
   "id": "e52ff8c0-1e45-4fa8-b81d-cd452b1a004c",
   "metadata": {},
   "source": [
    "## Quotation marks\n",
    "- Can use single or double, but choose one and be consistent\n",
    "- For doc string, it's always three double quotation marks"
   ]
  },
  {
   "cell_type": "markdown",
   "id": "7365f6b6-2500-4416-910d-695d7a8af111",
   "metadata": {},
   "source": [
    "## White spaces\n",
    "### When using operators\n",
    "Always leave a space before and after an operator"
   ]
  },
  {
   "cell_type": "code",
   "execution_count": null,
   "id": "df79bded-d554-4cb0-b7ab-91df2cae1a37",
   "metadata": {},
   "outputs": [],
   "source": [
    "# Wrong\n",
    "a=a+1\n",
    "# Correct\n",
    "a = a + 1"
   ]
  },
  {
   "cell_type": "markdown",
   "id": "6d87aed9-99c9-456b-a161-2bf3c24fecd4",
   "metadata": {},
   "source": [
    "But it is ok not to leave a space when trying to show sequence of operation"
   ]
  },
  {
   "cell_type": "code",
   "execution_count": null,
   "id": "1c9748ad-52f5-4bda-a219-56087d700072",
   "metadata": {},
   "outputs": [],
   "source": [
    "# Correct \n",
    "z = x*x + y*y"
   ]
  },
  {
   "cell_type": "markdown",
   "id": "5781307c-99cb-45e4-a8ad-5ab3431ab235",
   "metadata": {},
   "source": [
    "## Inline comments\n",
    "- Have atleast two spaces after code\n",
    "- Have one space after the # sign\n",
    "- Start the comment with a word starting with upper case"
   ]
  },
  {
   "cell_type": "code",
   "execution_count": null,
   "id": "ad6e6c21-cb7e-4830-8711-1c6cbad3fe1a",
   "metadata": {},
   "outputs": [],
   "source": []
  }
 ],
 "metadata": {
  "kernelspec": {
   "display_name": "Python 3 (ipykernel)",
   "language": "python",
   "name": "python3"
  },
  "language_info": {
   "codemirror_mode": {
    "name": "ipython",
    "version": 3
   },
   "file_extension": ".py",
   "mimetype": "text/x-python",
   "name": "python",
   "nbconvert_exporter": "python",
   "pygments_lexer": "ipython3",
   "version": "3.12.4"
  }
 },
 "nbformat": 4,
 "nbformat_minor": 5
}
