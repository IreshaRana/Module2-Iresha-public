{
 "cells": [
  {
   "cell_type": "markdown",
   "id": "4c8cea74-4d1a-4f9b-a6dc-24896cbcb678",
   "metadata": {},
   "source": [
    "# Numpy Library\n",
    "NumPy is a python package for scientific computing. It provides multidimensional array objects and efficient operations \n",
    "on them.\n"
   ]
  },
  {
   "cell_type": "markdown",
   "id": "886fa8ca-be77-4e61-a213-3849dd62765e",
   "metadata": {},
   "source": [
    "Source: Cheat sheet - https://www.datacamp.com/cheat-sheet/numpy-cheat-sheet-data-analysis-in-python"
   ]
  },
  {
   "cell_type": "code",
   "execution_count": 244,
   "id": "35b3f2aa-206d-4b37-9cc9-c038cdf27931",
   "metadata": {},
   "outputs": [],
   "source": [
    "import numpy as np"
   ]
  },
  {
   "cell_type": "markdown",
   "id": "90249293-4684-49e6-bd04-ea274b1ebfa2",
   "metadata": {},
   "source": [
    "## array"
   ]
  },
  {
   "cell_type": "code",
   "execution_count": 246,
   "id": "b6d61930-3066-43f9-aa6f-7c2ae88cb758",
   "metadata": {},
   "outputs": [
    {
     "data": {
      "text/plain": [
       "[1, 2, 3, 'Iresha', 4.5]"
      ]
     },
     "execution_count": 246,
     "metadata": {},
     "output_type": "execute_result"
    }
   ],
   "source": [
    "# let's first create a python list\n",
    "my_list=[1,2,3,'Iresha', 4.5]\n",
    "my_list"
   ]
  },
  {
   "cell_type": "code",
   "execution_count": 247,
   "id": "d2f440f3-6ccf-486f-957d-9444044a4732",
   "metadata": {},
   "outputs": [
    {
     "data": {
      "text/plain": [
       "array(['1', '2', '3', 'Iresha', '4.5'], dtype='<U32')"
      ]
     },
     "execution_count": 247,
     "metadata": {},
     "output_type": "execute_result"
    }
   ],
   "source": [
    "# Now let's covert this list to a Numpy array\n",
    "array_1=np.array(my_list)\n",
    "array_1"
   ]
  },
  {
   "cell_type": "code",
   "execution_count": 248,
   "id": "04117165-180d-44d6-a351-e0e5255cfbca",
   "metadata": {},
   "outputs": [
    {
     "data": {
      "text/plain": [
       "array([[2, 4, 5],\n",
       "       [6, 5, 1]])"
      ]
     },
     "execution_count": 248,
     "metadata": {},
     "output_type": "execute_result"
    }
   ],
   "source": [
    "#Creating a 2D-array\n",
    "array_2d=np.array([(2,4,5),(6,5,1)])\n",
    "array_2d"
   ]
  },
  {
   "cell_type": "code",
   "execution_count": 249,
   "id": "797d4ff4-6ea1-456a-a302-70ebbd34b9eb",
   "metadata": {},
   "outputs": [
    {
     "data": {
      "text/plain": [
       "array([[[2, 4, 5],\n",
       "        [6, 5, 1]],\n",
       "\n",
       "       [[3, 2, 1],\n",
       "        [7, 8, 9]]])"
      ]
     },
     "execution_count": 249,
     "metadata": {},
     "output_type": "execute_result"
    }
   ],
   "source": [
    "#Creating a 3D-array\n",
    "array_3d=np.array([[(2,4,5), (6,5,1)], [(3,2,1),(7,8,9)]])\n",
    "array_3d"
   ]
  },
  {
   "cell_type": "markdown",
   "id": "f0acf573-99b5-440f-8492-dbf76af16c54",
   "metadata": {},
   "source": [
    "## zeros and ones"
   ]
  },
  {
   "cell_type": "code",
   "execution_count": 251,
   "id": "f1748f91-2565-46dd-831b-eafdacae4994",
   "metadata": {},
   "outputs": [
    {
     "data": {
      "text/plain": [
       "array([[0., 0., 0., 0.],\n",
       "       [0., 0., 0., 0.],\n",
       "       [0., 0., 0., 0.]])"
      ]
     },
     "execution_count": 251,
     "metadata": {},
     "output_type": "execute_result"
    }
   ],
   "source": [
    "# to create an array of zeroes\n",
    "array_zeros=np.zeros((3,4))\n",
    "array_zeros"
   ]
  },
  {
   "cell_type": "code",
   "execution_count": 252,
   "id": "37ac7198-442c-4687-ab75-9655f3a6f718",
   "metadata": {},
   "outputs": [
    {
     "data": {
      "text/plain": [
       "array([[1, 1, 1, 1],\n",
       "       [1, 1, 1, 1]], dtype=int16)"
      ]
     },
     "execution_count": 252,
     "metadata": {},
     "output_type": "execute_result"
    }
   ],
   "source": [
    "# to create an array of ones\n",
    "# to have the ones dispalyed as integers, we need to specify dtype. If not the ones will be displayed as '1.'\n",
    "array_ones=np.ones((2,4),dtype=np.int16)\n",
    "array_ones"
   ]
  },
  {
   "cell_type": "markdown",
   "id": "5571d8dc-8d54-4773-8bd4-8e1df60a9df4",
   "metadata": {},
   "source": [
    "## arange"
   ]
  },
  {
   "cell_type": "code",
   "execution_count": 254,
   "id": "fddeeb88-e3bd-4934-b19d-698e2e7bf6d6",
   "metadata": {},
   "outputs": [
    {
     "data": {
      "text/plain": [
       "array([-1,  0,  1,  2,  3,  4])"
      ]
     },
     "execution_count": 254,
     "metadata": {},
     "output_type": "execute_result"
    }
   ],
   "source": [
    "# creates an array of evenly spaced values (step value)\n",
    "array=np.arange(-1,5)\n",
    "array"
   ]
  },
  {
   "cell_type": "code",
   "execution_count": 255,
   "id": "53894fc4-dcc2-41ea-83a2-a82c12d9c5b5",
   "metadata": {},
   "outputs": [
    {
     "data": {
      "text/plain": [
       "array([1, 3, 5, 7])"
      ]
     },
     "execution_count": 255,
     "metadata": {},
     "output_type": "execute_result"
    }
   ],
   "source": [
    "# To return a stepped sequence from start (inclusive) to the end (exclusive)\n",
    "array=np.arange(1,8,2)\n",
    "array"
   ]
  },
  {
   "cell_type": "markdown",
   "id": "a65c9ac0-73cb-4c2d-9a08-633148cb6cdf",
   "metadata": {},
   "source": [
    "## linspace"
   ]
  },
  {
   "cell_type": "code",
   "execution_count": 257,
   "id": "608ed2fd-32c1-439d-b52b-5171a086962d",
   "metadata": {},
   "outputs": [
    {
     "data": {
      "text/plain": [
       "array([0.  , 0.25, 0.5 , 0.75, 1.  , 1.25, 1.5 , 1.75, 2.  ])"
      ]
     },
     "execution_count": 257,
     "metadata": {},
     "output_type": "execute_result"
    }
   ],
   "source": [
    "# creates an array of evenly spaced values (number of samples)\n",
    "array=np.linspace(0,2,9)\n",
    "array"
   ]
  },
  {
   "cell_type": "markdown",
   "id": "0ea0b602-8b11-4d66-ae17-daae69421b8e",
   "metadata": {},
   "source": [
    "## full"
   ]
  },
  {
   "cell_type": "code",
   "execution_count": 259,
   "id": "bff1d5b9-89b6-4384-9f56-8d71bf254f76",
   "metadata": {},
   "outputs": [
    {
     "data": {
      "text/plain": [
       "array([[7, 7],\n",
       "       [7, 7]])"
      ]
     },
     "execution_count": 259,
     "metadata": {},
     "output_type": "execute_result"
    }
   ],
   "source": [
    "#creates a constant array\n",
    "array = np.full((2,2,),7)\n",
    "array"
   ]
  },
  {
   "cell_type": "markdown",
   "id": "7d6b97d2-5641-4bd7-91ea-d4b70a0551dc",
   "metadata": {},
   "source": [
    "## eye"
   ]
  },
  {
   "cell_type": "code",
   "execution_count": 261,
   "id": "c6ca99af-6822-481e-a2b1-760bc5076525",
   "metadata": {},
   "outputs": [
    {
     "data": {
      "text/plain": [
       "array([[1, 0, 0],\n",
       "       [0, 1, 0],\n",
       "       [0, 0, 1]], dtype=int16)"
      ]
     },
     "execution_count": 261,
     "metadata": {},
     "output_type": "execute_result"
    }
   ],
   "source": [
    "# creates identity matrix\n",
    "array= np.eye(3, dtype=np.int16)\n",
    "array"
   ]
  },
  {
   "cell_type": "markdown",
   "id": "86814373-c8bf-4501-af69-6c3ae6084863",
   "metadata": {},
   "source": [
    "## empty\n",
    "This creates and array and the values can be anything that was in the memory location when the array was created. This is faster than creating arrays with ones and zeros, and is used in performance-sensitive situations and when you do not need to immediately initialize an array."
   ]
  },
  {
   "cell_type": "code",
   "execution_count": 263,
   "id": "c947b206-5614-4f45-b0d2-f8e7012b8fd2",
   "metadata": {},
   "outputs": [
    {
     "data": {
      "text/plain": [
       "array([[6.23042070e-307, 4.67296746e-307],\n",
       "       [1.69121096e-306, 5.34041153e-307],\n",
       "       [2.67019864e-306, 2.42092166e-322]])"
      ]
     },
     "execution_count": 263,
     "metadata": {},
     "output_type": "execute_result"
    }
   ],
   "source": [
    "# creates an empty array\n",
    "array=np.empty((3,2))\n",
    "array"
   ]
  },
  {
   "cell_type": "markdown",
   "id": "1e8c82ef-a780-4b89-a47b-44d05733e4ab",
   "metadata": {},
   "source": [
    "## random"
   ]
  },
  {
   "cell_type": "code",
   "execution_count": 265,
   "id": "991332d4-cda2-423f-97c3-5b6259ebc251",
   "metadata": {},
   "outputs": [
    {
     "data": {
      "text/plain": [
       "array([[0.10659758, 0.92852102, 0.9136193 , 0.79278825]])"
      ]
     },
     "execution_count": 265,
     "metadata": {},
     "output_type": "execute_result"
    }
   ],
   "source": [
    "# creates an array with random values\n",
    "array=np.random.random((1,4))\n",
    "array"
   ]
  },
  {
   "cell_type": "markdown",
   "id": "37781a9b-a707-446f-a1c3-1c6efa3b7b2c",
   "metadata": {},
   "source": [
    "## reshape"
   ]
  },
  {
   "cell_type": "code",
   "execution_count": 267,
   "id": "f2e837a6-5834-4481-a07b-0042edc0dd39",
   "metadata": {},
   "outputs": [
    {
     "data": {
      "text/plain": [
       "array([[1, 2, 3],\n",
       "       [4, 5, 6]])"
      ]
     },
     "execution_count": 267,
     "metadata": {},
     "output_type": "execute_result"
    }
   ],
   "source": [
    "# let's first create a 2*3 array\n",
    "a=np.array([(1,2,3), (4,5,6)])\n",
    "a"
   ]
  },
  {
   "cell_type": "code",
   "execution_count": 268,
   "id": "aa412a46-d706-4e09-8ce8-fbb841e9f1d8",
   "metadata": {},
   "outputs": [
    {
     "data": {
      "text/plain": [
       "array([[1, 2, 3],\n",
       "       [4, 5, 6]])"
      ]
     },
     "execution_count": 268,
     "metadata": {},
     "output_type": "execute_result"
    }
   ],
   "source": [
    "# reshape method reshapes, but does not change data\n",
    "# the first number within brackets is the number of rows we require\n",
    "# -1 means that NumPy will automatically calculate this dimension based on the other dimensions and the total number of elements in the array.\n",
    "b=a.reshape(2,-1)\n",
    "b"
   ]
  },
  {
   "cell_type": "markdown",
   "id": "9f37e2b2-d726-4926-bece-c953a40b63f1",
   "metadata": {},
   "source": [
    "## resize"
   ]
  },
  {
   "cell_type": "code",
   "execution_count": 270,
   "id": "80a7819f-57e8-48e1-822d-eb3eef7f1063",
   "metadata": {},
   "outputs": [
    {
     "data": {
      "text/plain": [
       "array([[3, 4, 5],\n",
       "       [9, 5, 2]])"
      ]
     },
     "execution_count": 270,
     "metadata": {},
     "output_type": "execute_result"
    }
   ],
   "source": [
    "a = np.array([(3,4,5), (9,5,2)])\n",
    "a"
   ]
  },
  {
   "cell_type": "code",
   "execution_count": 271,
   "id": "09b4cbce-ac31-410c-8859-6562d12589b8",
   "metadata": {},
   "outputs": [
    {
     "data": {
      "text/plain": [
       "array([[3, 4, 5, 9, 5, 2, 3, 4]])"
      ]
     },
     "execution_count": 271,
     "metadata": {},
     "output_type": "execute_result"
    }
   ],
   "source": [
    "# Modifies the original array in place, changing its shape and repeating the pattern to fill the array\n",
    "c=np.resize(a,(1,8))\n",
    "c"
   ]
  },
  {
   "cell_type": "markdown",
   "id": "6b31988a-a3e3-4a31-9bb0-601085536075",
   "metadata": {},
   "source": [
    "Note: a.resize((1,8)) did not work as resize() method cannot be used on arrays that are views or slices of other arrays."
   ]
  },
  {
   "cell_type": "markdown",
   "id": "b6ae3166-c608-4427-9784-fa2f001168d9",
   "metadata": {},
   "source": [
    "## append\n",
    "### Output as a 1-D array"
   ]
  },
  {
   "cell_type": "code",
   "execution_count": 274,
   "id": "67ffd092-4966-4b2d-aa2a-5e3b1ea6a04d",
   "metadata": {},
   "outputs": [
    {
     "data": {
      "text/plain": [
       "array([[3, 4, 5],\n",
       "       [9, 5, 2]])"
      ]
     },
     "execution_count": 274,
     "metadata": {},
     "output_type": "execute_result"
    }
   ],
   "source": [
    "a"
   ]
  },
  {
   "cell_type": "code",
   "execution_count": 275,
   "id": "5a7e6db6-dc57-4162-b732-b7efac3c326f",
   "metadata": {},
   "outputs": [
    {
     "data": {
      "text/plain": [
       "array([[1, 1, 1]])"
      ]
     },
     "execution_count": 275,
     "metadata": {},
     "output_type": "execute_result"
    }
   ],
   "source": [
    "b=np.array([(1,1,1)])\n",
    "b"
   ]
  },
  {
   "cell_type": "code",
   "execution_count": 276,
   "id": "df31a482-6f99-4ec6-a7c2-64259062cd19",
   "metadata": {},
   "outputs": [
    {
     "data": {
      "text/plain": [
       "array([3, 4, 5, 9, 5, 2, 1, 1, 1])"
      ]
     },
     "execution_count": 276,
     "metadata": {},
     "output_type": "execute_result"
    }
   ],
   "source": [
    "# append two arrays\n",
    "c = np.append(a,b)\n",
    "c"
   ]
  },
  {
   "cell_type": "markdown",
   "id": "71cb7484-c063-49b8-863d-467dbf0a9d2c",
   "metadata": {},
   "source": [
    "### Output as a 2-D array"
   ]
  },
  {
   "cell_type": "code",
   "execution_count": 278,
   "id": "726db49b-ba6c-4725-bb4a-5e564e36b8e9",
   "metadata": {},
   "outputs": [
    {
     "data": {
      "text/plain": [
       "array([[3, 4, 5],\n",
       "       [9, 5, 2]])"
      ]
     },
     "execution_count": 278,
     "metadata": {},
     "output_type": "execute_result"
    }
   ],
   "source": [
    "a"
   ]
  },
  {
   "cell_type": "code",
   "execution_count": 279,
   "id": "21145483-9b04-436e-b68a-30284df1b36c",
   "metadata": {},
   "outputs": [
    {
     "data": {
      "text/plain": [
       "array([[6, 2, 3],\n",
       "       [7, 1, 2]])"
      ]
     },
     "execution_count": 279,
     "metadata": {},
     "output_type": "execute_result"
    }
   ],
   "source": [
    "b = np.array([(6,2,3),(7,1,2)])\n",
    "b"
   ]
  },
  {
   "cell_type": "code",
   "execution_count": 280,
   "id": "aa697eeb-66e3-45ec-bc64-bbf3831e25c3",
   "metadata": {},
   "outputs": [
    {
     "data": {
      "text/plain": [
       "array([[3, 4, 5, 6, 2, 3],\n",
       "       [9, 5, 2, 7, 1, 2]])"
      ]
     },
     "execution_count": 280,
     "metadata": {},
     "output_type": "execute_result"
    }
   ],
   "source": [
    "# append two arrays and the output to be a 2-D array\n",
    "c=np.append(a,b,axis=1)\n",
    "c"
   ]
  },
  {
   "cell_type": "markdown",
   "id": "23e5f61b-bb86-4ca7-99d7-6163082761b0",
   "metadata": {},
   "source": [
    "## insert"
   ]
  },
  {
   "cell_type": "code",
   "execution_count": 282,
   "id": "d4a89c6b-8ca4-4672-a4f4-a325f51fb842",
   "metadata": {},
   "outputs": [
    {
     "data": {
      "text/plain": [
       "array([1, 2, 3, 4])"
      ]
     },
     "execution_count": 282,
     "metadata": {},
     "output_type": "execute_result"
    }
   ],
   "source": [
    "a=np.array([1,2,3,4])\n",
    "a"
   ]
  },
  {
   "cell_type": "code",
   "execution_count": 283,
   "id": "437c424a-5f26-42e8-8d8f-75966043ea72",
   "metadata": {},
   "outputs": [
    {
     "data": {
      "text/plain": [
       "array([ 1,  2,  3,  4, 10])"
      ]
     },
     "execution_count": 283,
     "metadata": {},
     "output_type": "execute_result"
    }
   ],
   "source": [
    "#insert 10 at index 4 \n",
    "b=np.insert(a,4,10)\n",
    "b"
   ]
  },
  {
   "cell_type": "markdown",
   "id": "3d9c1932-cf60-468f-a33c-7575bd02b424",
   "metadata": {},
   "source": [
    "## concatenate"
   ]
  },
  {
   "cell_type": "code",
   "execution_count": 285,
   "id": "9f79c715-2b38-4d38-bdc2-aceaa2cf10e8",
   "metadata": {},
   "outputs": [
    {
     "data": {
      "text/plain": [
       "array([1, 2, 3, 4])"
      ]
     },
     "execution_count": 285,
     "metadata": {},
     "output_type": "execute_result"
    }
   ],
   "source": [
    "a"
   ]
  },
  {
   "cell_type": "code",
   "execution_count": 286,
   "id": "44624afd-ac9e-4be4-b74f-28eb1e014ac8",
   "metadata": {},
   "outputs": [
    {
     "data": {
      "text/plain": [
       "array([ 1,  2,  3,  4, 10])"
      ]
     },
     "execution_count": 286,
     "metadata": {},
     "output_type": "execute_result"
    }
   ],
   "source": [
    "b"
   ]
  },
  {
   "cell_type": "code",
   "execution_count": 287,
   "id": "56b633bc-f9f2-47de-988c-843568f01128",
   "metadata": {},
   "outputs": [
    {
     "data": {
      "text/plain": [
       "array([ 1,  2,  3,  4,  1,  2,  3,  4, 10])"
      ]
     },
     "execution_count": 287,
     "metadata": {},
     "output_type": "execute_result"
    }
   ],
   "source": [
    "# concatenating two arrays along the 0 axis\n",
    "c=np.concatenate((a,b), axis=0)\n",
    "c"
   ]
  }
 ],
 "metadata": {
  "kernelspec": {
   "display_name": "Python 3 (ipykernel)",
   "language": "python",
   "name": "python3"
  },
  "language_info": {
   "codemirror_mode": {
    "name": "ipython",
    "version": 3
   },
   "file_extension": ".py",
   "mimetype": "text/x-python",
   "name": "python",
   "nbconvert_exporter": "python",
   "pygments_lexer": "ipython3",
   "version": "3.12.4"
  }
 },
 "nbformat": 4,
 "nbformat_minor": 5
}
